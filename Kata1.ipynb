{
 "cells": [
  {
   "cell_type": "markdown",
   "metadata": {},
   "source": [
    "## Kata 1"
   ]
  },
  {
   "cell_type": "markdown",
   "metadata": {},
   "source": [
    "### \"Mi primer programa\""
   ]
  },
  {
   "cell_type": "code",
   "execution_count": 21,
   "metadata": {},
   "outputs": [
    {
     "name": "stdout",
     "output_type": "stream",
     "text": [
      "Today's date is: 2022-02-07\n"
     ]
    }
   ],
   "source": [
    "from datetime import date, time, datetime\n",
    "date_object = date.today()\n",
    "date_str = str(date_object)\n",
    "print(f\"Today's date is: {date_str}\")"
   ]
  },
  {
   "cell_type": "markdown",
   "metadata": {},
   "source": [
    "## Kata 2"
   ]
  },
  {
   "cell_type": "markdown",
   "metadata": {},
   "source": [
    "### Convertidor entre parsec y años luz"
   ]
  },
  {
   "cell_type": "code",
   "execution_count": 23,
   "metadata": {},
   "outputs": [
    {
     "name": "stdout",
     "output_type": "stream",
     "text": [
      "Welcome to this app to convert from Parsec to Lightyear or viceversa\n",
      "1 Lightyear(s), is 0.3066017488563755 Parsec(s)\n"
     ]
    }
   ],
   "source": [
    "print(\"Welcome to this app to convert from Parsec to Lightyear or viceversa\")\n",
    "unit_to_convert = str(input(\"What distance unit do you want to convert (Parsec/Lightyear)?: \"))\n",
    "if unit_to_convert.lower()[0] == \"p\":\n",
    "    #Parsec to Lightyear\n",
    "    unit_to_convert, new_unit = \"Parsec\", \"Lightyear\"\n",
    "    number = int(input(\"What amount of Parsec(s) do you want to convert?: \"))\n",
    "    result = number*3.26156\n",
    "elif unit_to_convert.lower()[0] == \"l\":\n",
    "    #Lightyear to Parsec\n",
    "    unit_to_convert, new_unit = \"Lightyear\", \"Parsec\"\n",
    "    number = int(input(\"What amount of Lightyear(s) do you want to convert?: \"))\n",
    "    result = number/3.26156\n",
    "else:  print(\"Invalid input\")\n",
    "\n",
    "if result != None:\n",
    "    print(f\"{number} {unit_to_convert}(s), is {result} {new_unit}(s)\")"
   ]
  }
 ],
 "metadata": {
  "interpreter": {
   "hash": "24015ff2fa19fc1f82e93907bcc39bd93cf856d437f986557e956ba671379c70"
  },
  "kernelspec": {
   "display_name": "Python 3.10.2 64-bit",
   "language": "python",
   "name": "python3"
  },
  "language_info": {
   "codemirror_mode": {
    "name": "ipython",
    "version": 3
   },
   "file_extension": ".py",
   "mimetype": "text/x-python",
   "name": "python",
   "nbconvert_exporter": "python",
   "pygments_lexer": "ipython3",
   "version": "3.10.2"
  },
  "orig_nbformat": 4
 },
 "nbformat": 4,
 "nbformat_minor": 2
}
