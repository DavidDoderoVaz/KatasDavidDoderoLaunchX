{
 "cells": [
  {
   "cell_type": "markdown",
   "metadata": {},
   "source": [
    "# Ejercicios"
   ]
  },
  {
   "cell_type": "markdown",
   "metadata": {},
   "source": [
    "> At the end of the notebook is the section to run the examples"
   ]
  },
  {
   "cell_type": "markdown",
   "metadata": {},
   "source": [
    "## Traceback example"
   ]
  },
  {
   "cell_type": "code",
   "execution_count": 31,
   "metadata": {},
   "outputs": [],
   "source": [
    "def trace_back_example():\n",
    "    open(\"/path/to/mars.jpg\")"
   ]
  },
  {
   "cell_type": "markdown",
   "metadata": {},
   "source": [
    "## Customizing  tracebacks exceptions"
   ]
  },
  {
   "cell_type": "code",
   "execution_count": 32,
   "metadata": {},
   "outputs": [],
   "source": [
    "def custom_traceback():\n",
    "    try: open(\"config.txt\")\n",
    "    except FileNotFoundError: print(\"Couldn't find the config.txt file\")\n",
    "#Run a second time with a config directory created and exception will be wrong\n",
    "\n",
    "def custom_traceback_improved():\n",
    "    try: open(\"config.txt\")\n",
    "    except FileNotFoundError: print(\"Couldn't find the config.txt file\")\n",
    "    except IsADirectoryError: print(\"Found config.txt but it's a directory, couldn't read it.\")"
   ]
  },
  {
   "cell_type": "markdown",
   "metadata": {},
   "source": [
    "## Using `as`"
   ]
  },
  {
   "cell_type": "code",
   "execution_count": 33,
   "metadata": {},
   "outputs": [],
   "source": [
    "def using_as():\n",
    "    try: open(\"mars.jpg\")\n",
    "    except FileNotFoundError as err: \n",
    "        print(\"Got a problem reading the mars.jpg file\", err)"
   ]
  },
  {
   "cell_type": "markdown",
   "metadata": {},
   "source": [
    "## Using `as` for multiple exceptions"
   ]
  },
  {
   "cell_type": "code",
   "execution_count": 34,
   "metadata": {},
   "outputs": [],
   "source": [
    "def using_as_v2():\n",
    "    try: open(\"config.txt\")\n",
    "    except OSError as err: \n",
    "        if err.errno == 2:\n",
    "            print(\"Couldn't find the config.txt file\")\n",
    "        elif err.errno == 13:\n",
    "            print(\"found config.txt but couldn't open it\")"
   ]
  },
  {
   "cell_type": "markdown",
   "metadata": {},
   "source": [
    "## Astronauts example"
   ]
  },
  {
   "cell_type": "code",
   "execution_count": 35,
   "metadata": {},
   "outputs": [],
   "source": [
    "def water_left(astronauts, water_left, days_left):\n",
    "    daily_usage = astronauts*11\n",
    "    total_usage= daily_usage*days_left\n",
    "    total_water_left = water_left - total_usage\n",
    "    if total_water_left < 0:\n",
    "        raise RuntimeError(f\"There is not enough water for {astronauts} astronauts after {days_left} days!\")\n",
    "    return f\"Total water left after {days_left} days is: {total_water_left} liters\""
   ]
  },
  {
   "cell_type": "markdown",
   "metadata": {},
   "source": [
    "## Running section"
   ]
  },
  {
   "cell_type": "code",
   "execution_count": 36,
   "metadata": {},
   "outputs": [
    {
     "ename": "RuntimeError",
     "evalue": "There is not enough water for 4 astronauts after 10 days!",
     "output_type": "error",
     "traceback": [
      "\u001b[1;31m---------------------------------------------------------------------------\u001b[0m",
      "\u001b[1;31mRuntimeError\u001b[0m                              Traceback (most recent call last)",
      "\u001b[1;32mc:\\Users\\Fred\\Desktop\\Coding projects\\LaunchX\\Kata10.ipynb Cell 14'\u001b[0m in \u001b[0;36m<module>\u001b[1;34m\u001b[0m\n\u001b[0;32m      <a href='vscode-notebook-cell:/c%3A/Users/Fred/Desktop/Coding%20projects/LaunchX/Kata10.ipynb#ch0000006?line=0'>1</a>\u001b[0m \u001b[39m#trace_back_example()\u001b[39;00m\n\u001b[0;32m      <a href='vscode-notebook-cell:/c%3A/Users/Fred/Desktop/Coding%20projects/LaunchX/Kata10.ipynb#ch0000006?line=1'>2</a>\u001b[0m \u001b[39m#custom_traceback()\u001b[39;00m\n\u001b[0;32m      <a href='vscode-notebook-cell:/c%3A/Users/Fred/Desktop/Coding%20projects/LaunchX/Kata10.ipynb#ch0000006?line=2'>3</a>\u001b[0m \u001b[39m#custom_traceback_improved()\u001b[39;00m\n\u001b[0;32m      <a href='vscode-notebook-cell:/c%3A/Users/Fred/Desktop/Coding%20projects/LaunchX/Kata10.ipynb#ch0000006?line=3'>4</a>\u001b[0m \u001b[39m#using_as_v2()\u001b[39;00m\n\u001b[1;32m----> <a href='vscode-notebook-cell:/c%3A/Users/Fred/Desktop/Coding%20projects/LaunchX/Kata10.ipynb#ch0000006?line=4'>5</a>\u001b[0m water_left(\u001b[39m4\u001b[39;49m, \u001b[39m20\u001b[39;49m, \u001b[39m10\u001b[39;49m)\n",
      "\u001b[1;32mc:\\Users\\Fred\\Desktop\\Coding projects\\LaunchX\\Kata10.ipynb Cell 12'\u001b[0m in \u001b[0;36mwater_left\u001b[1;34m(astronauts, water_left, days_left)\u001b[0m\n\u001b[0;32m      <a href='vscode-notebook-cell:/c%3A/Users/Fred/Desktop/Coding%20projects/LaunchX/Kata10.ipynb#ch0000018?line=3'>4</a>\u001b[0m total_water_left \u001b[39m=\u001b[39m water_left \u001b[39m-\u001b[39m total_usage\n\u001b[0;32m      <a href='vscode-notebook-cell:/c%3A/Users/Fred/Desktop/Coding%20projects/LaunchX/Kata10.ipynb#ch0000018?line=4'>5</a>\u001b[0m \u001b[39mif\u001b[39;00m total_water_left \u001b[39m<\u001b[39m \u001b[39m0\u001b[39m:\n\u001b[1;32m----> <a href='vscode-notebook-cell:/c%3A/Users/Fred/Desktop/Coding%20projects/LaunchX/Kata10.ipynb#ch0000018?line=5'>6</a>\u001b[0m     \u001b[39mraise\u001b[39;00m \u001b[39mRuntimeError\u001b[39;00m(\u001b[39mf\u001b[39m\u001b[39m\"\u001b[39m\u001b[39mThere is not enough water for \u001b[39m\u001b[39m{\u001b[39;00mastronauts\u001b[39m}\u001b[39;00m\u001b[39m astronauts after \u001b[39m\u001b[39m{\u001b[39;00mdays_left\u001b[39m}\u001b[39;00m\u001b[39m days!\u001b[39m\u001b[39m\"\u001b[39m)\n\u001b[0;32m      <a href='vscode-notebook-cell:/c%3A/Users/Fred/Desktop/Coding%20projects/LaunchX/Kata10.ipynb#ch0000018?line=6'>7</a>\u001b[0m \u001b[39mreturn\u001b[39;00m \u001b[39mf\u001b[39m\u001b[39m\"\u001b[39m\u001b[39mTotal water left after \u001b[39m\u001b[39m{\u001b[39;00mdays_left\u001b[39m}\u001b[39;00m\u001b[39m days is: \u001b[39m\u001b[39m{\u001b[39;00mtotal_water_left\u001b[39m}\u001b[39;00m\u001b[39m liters\u001b[39m\u001b[39m\"\u001b[39m\n",
      "\u001b[1;31mRuntimeError\u001b[0m: There is not enough water for 4 astronauts after 10 days!"
     ]
    }
   ],
   "source": [
    "#trace_back_example()\n",
    "#custom_traceback()\n",
    "#custom_traceback_improved()\n",
    "#using_as_v2()\n",
    "water_left(4, 20, 10)"
   ]
  }
 ],
 "metadata": {
  "interpreter": {
   "hash": "24015ff2fa19fc1f82e93907bcc39bd93cf856d437f986557e956ba671379c70"
  },
  "kernelspec": {
   "display_name": "Python 3.10.2 64-bit",
   "language": "python",
   "name": "python3"
  },
  "language_info": {
   "codemirror_mode": {
    "name": "ipython",
    "version": 3
   },
   "file_extension": ".py",
   "mimetype": "text/x-python",
   "name": "python",
   "nbconvert_exporter": "python",
   "pygments_lexer": "ipython3",
   "version": "3.10.2"
  },
  "orig_nbformat": 4
 },
 "nbformat": 4,
 "nbformat_minor": 2
}
